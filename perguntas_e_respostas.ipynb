{
  "nbformat": 4,
  "nbformat_minor": 0,
  "metadata": {
    "colab": {
      "provenance": []
    },
    "kernelspec": {
      "name": "python3",
      "display_name": "Python 3"
    },
    "language_info": {
      "name": "python"
    }
  },
  "cells": [
    {
      "cell_type": "markdown",
      "source": [
        "# Python - Projeto: Perguntas e Respostas"
      ],
      "metadata": {
        "id": "alDXjwmcLrVZ"
      }
    },
    {
      "cell_type": "markdown",
      "source": [
        "#### Montando nosso jogo de perguntas e respostas\n",
        "- O usuário precisa informar as seguintes informações:\n",
        "    - Pergunta\n",
        "    - As opções de resposta da pergunta\n",
        "    - A opção correta de resposta da pergunta"
      ],
      "metadata": {
        "id": "vvGFqYojOC_c"
      }
    },
    {
      "cell_type": "code",
      "execution_count": null,
      "metadata": {
        "id": "YI6wV6VVDs4_",
        "colab": {
          "base_uri": "https://localhost:8080/"
        },
        "outputId": "9e65d092-b3b6-4aed-9308-728089344ae1"
      },
      "outputs": [
        {
          "output_type": "stream",
          "name": "stdout",
          "text": [
            "Digite a pergunta: mes?\n",
            "Informe a 1 opção de resposta da pergunta: 1\n",
            "Informe a 2 opção de resposta da pergunta: 2\n",
            "Informe a 3 opção de resposta da pergunta: 3\n",
            "Informe a 4 opção de resposta da pergunta: 4\n",
            "Digite a resposta da pergunta: 4\n",
            "Deseja continuar? n\n",
            "\n"
          ]
        }
      ],
      "source": [
        "jogo = list()\n",
        "\n",
        "while True:\n",
        "    dados = dict()\n",
        "    dados['pergunta'] = input('Digite a pergunta: ').capitalize()\n",
        "\n",
        "    lista_opcoes = list()\n",
        "    for i in range(4):\n",
        "        lista_opcoes.append(input(f'Informe a {i+1} opção de resposta da pergunta: ').capitalize())\n",
        "    dados['opcoes'] = lista_opcoes\n",
        "\n",
        "    dados['resposta'] = input('Digite a resposta da pergunta: ').capitalize()\n",
        "\n",
        "    jogo.append(dados.copy())\n",
        "\n",
        "    continuar = input('Deseja continuar? ').lower()\n",
        "    print()\n",
        "    if continuar not in ('s', 'sim'):\n",
        "        break"
      ]
    },
    {
      "cell_type": "code",
      "source": [
        "qtd_acertos = 0\n",
        "qtd_erros = 0\n",
        "for pergunta in jogo:\n",
        "    print()\n",
        "    print(f\"Pergunta: {pergunta['pergunta']}\")\n",
        "    \n",
        "    opcoes = pergunta['opcoes']\n",
        "    for i, opcao in enumerate(opcoes):\n",
        "        print(f'{i+1}) {opcao}')\n",
        "    print()\n",
        "\n",
        "    resposta = int(input('Qual das alternativas é a correta? '))\n",
        "    while True:\n",
        "        if resposta not in (1, 2, 3, 4):\n",
        "            print('ERRO! O valor informado não é um número.')\n",
        "            resposta = int(input('Qual das alternativas é a correta? '))\n",
        "        else:\n",
        "            break\n",
        "\n",
        "    if opcoes[resposta-1] == pergunta['resposta']:\n",
        "        print('✔️ACERTOU!')\n",
        "        qtd_acertos += 1\n",
        "    else:\n",
        "        print('❌ERROU!')\n",
        "        qtd_erros += 1\n",
        "    print()\n",
        "\n",
        "print(f'Acertos: {qtd_acertos}')\n",
        "print(f'Erros:   {qtd_erros}')\n",
        "    "
      ],
      "metadata": {
        "colab": {
          "base_uri": "https://localhost:8080/"
        },
        "id": "dH9x1w3UCFIs",
        "outputId": "adff5b0b-cbca-4bf3-a750-dcd1a6b554ff"
      },
      "execution_count": null,
      "outputs": [
        {
          "output_type": "stream",
          "name": "stdout",
          "text": [
            "\n",
            "Pergunta: Mes?\n",
            "1) 1\n",
            "2) 2\n",
            "3) 3\n",
            "4) 4\n",
            "\n",
            "Qual das alternativas é a correta? 5\n",
            "ERRO! O valor informado não é um número.\n",
            "Qual das alternativas é a correta? 5\n",
            "ERRO! O valor informado não é um número.\n",
            "Qual das alternativas é a correta? 1\n",
            "❌ERROU!\n",
            "\n",
            "Acertos: 0\n",
            "Erros:   1\n"
          ]
        }
      ]
    }
  ]
}