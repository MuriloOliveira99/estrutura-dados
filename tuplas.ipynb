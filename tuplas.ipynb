{
  "nbformat": 4,
  "nbformat_minor": 0,
  "metadata": {
    "colab": {
      "provenance": []
    },
    "kernelspec": {
      "name": "python3",
      "display_name": "Python 3"
    },
    "language_info": {
      "name": "python"
    }
  },
  "cells": [
    {
      "cell_type": "markdown",
      "source": [
        "# Python - Tuplas\n",
        "- É uma sequência imutável de valores de qualquer tipo"
      ],
      "metadata": {
        "id": "oQm8vTJ3r7CR"
      }
    },
    {
      "cell_type": "markdown",
      "source": [
        "## Definindo uma tupla"
      ],
      "metadata": {
        "id": "JPqtuQ2Ir8NV"
      }
    },
    {
      "cell_type": "code",
      "source": [
        "data_engineer = (\n",
        "    'Python',\n",
        "    'SQL',\n",
        "    'Spark',\n",
        "    'Hadoop',\n",
        "    'Docker',\n",
        "    'AWS',\n",
        "    'GCP'\n",
        ")"
      ],
      "metadata": {
        "id": "m6OIFYj3r8RZ"
      },
      "execution_count": 3,
      "outputs": []
    },
    {
      "cell_type": "markdown",
      "source": [
        "## Exibindo itens da tupla através do índice"
      ],
      "metadata": {
        "id": "iXXCrCv0r8V5"
      }
    },
    {
      "cell_type": "code",
      "source": [
        "print(data_engineer[0])\n",
        "print(data_engineer[1])\n",
        "print(data_engineer[2])\n",
        "print(data_engineer[3])\n",
        "print(data_engineer[4])\n",
        "print(data_engineer[5])\n",
        "print(data_engineer[6])"
      ],
      "metadata": {
        "colab": {
          "base_uri": "https://localhost:8080/"
        },
        "id": "28zRdaeLr8Z2",
        "outputId": "c1601cd6-7a6f-47e1-90e3-5ba11f74eb8f"
      },
      "execution_count": 4,
      "outputs": [
        {
          "output_type": "stream",
          "name": "stdout",
          "text": [
            "Python\n",
            "SQL\n",
            "Spark\n",
            "Hadoop\n",
            "Docker\n",
            "AWS\n",
            "GCP\n"
          ]
        }
      ]
    },
    {
      "cell_type": "markdown",
      "source": [
        "## Exibindo alguns itens da tupla"
      ],
      "metadata": {
        "id": "ktffu6Q9r8eW"
      }
    },
    {
      "cell_type": "code",
      "source": [
        "# Exibe os itens do indice 1 até o 4\n",
        "print(data_engineer[1:5])\n",
        "\n",
        "# Exibe os itens do indice 0 até 3\n",
        "print(data_engineer[:4])\n",
        "\n",
        "# Exibe os 2 últimos itens da tupla\n",
        "# Quando é negativo, o índice começa em -1\n",
        "print(data_engineer[-2])\n",
        "\n",
        "# Ignora os 2 ultimos itens da tupla\n",
        "print(data_engineer[:-2])\n",
        "\n",
        "# Exibe os 2 últimos itens da tupla\n",
        "print(data_engineer[-2:])"
      ],
      "metadata": {
        "colab": {
          "base_uri": "https://localhost:8080/"
        },
        "id": "jPCRjU2Er8iV",
        "outputId": "b552e62b-85cc-4018-f514-862eb7bf6cd0"
      },
      "execution_count": 13,
      "outputs": [
        {
          "output_type": "stream",
          "name": "stdout",
          "text": [
            "('SQL', 'Spark', 'Hadoop', 'Docker')\n",
            "('Python', 'SQL', 'Spark', 'Hadoop')\n",
            "AWS\n",
            "('Python', 'SQL', 'Spark', 'Hadoop', 'Docker')\n",
            "('AWS', 'GCP')\n"
          ]
        }
      ]
    },
    {
      "cell_type": "markdown",
      "source": [
        "## Tuplas são imutáveis"
      ],
      "metadata": {
        "id": "ZBPB5ueyr8m1"
      }
    },
    {
      "cell_type": "code",
      "source": [
        "data_engineer[1] = 'Java'"
      ],
      "metadata": {
        "colab": {
          "base_uri": "https://localhost:8080/",
          "height": 141
        },
        "id": "4qFste31r8rW",
        "outputId": "8b40f58e-3013-4ed6-e6ef-94100dfb6571"
      },
      "execution_count": 14,
      "outputs": [
        {
          "output_type": "error",
          "ename": "TypeError",
          "evalue": "'tuple' object does not support item assignment",
          "traceback": [
            "\u001b[0;31m---------------------------------------------------------------------------\u001b[0m",
            "\u001b[0;31mTypeError\u001b[0m                                 Traceback (most recent call last)",
            "\u001b[0;32m<ipython-input-14-1bc55a8b3af1>\u001b[0m in \u001b[0;36m<cell line: 1>\u001b[0;34m()\u001b[0m\n\u001b[0;32m----> 1\u001b[0;31m \u001b[0mdata_engineer\u001b[0m\u001b[0;34m[\u001b[0m\u001b[0;36m1\u001b[0m\u001b[0;34m]\u001b[0m \u001b[0;34m=\u001b[0m \u001b[0;34m'Java'\u001b[0m\u001b[0;34m\u001b[0m\u001b[0;34m\u001b[0m\u001b[0m\n\u001b[0m",
            "\u001b[0;31mTypeError\u001b[0m: 'tuple' object does not support item assignment"
          ]
        }
      ]
    },
    {
      "cell_type": "markdown",
      "source": [
        "## Percorrendo a tupla"
      ],
      "metadata": {
        "id": "28epzk1Tr8vz"
      }
    },
    {
      "cell_type": "code",
      "source": [
        "for stack in data_engineer:\n",
        "    print(stack)"
      ],
      "metadata": {
        "colab": {
          "base_uri": "https://localhost:8080/"
        },
        "id": "tH8gs9_Rr8zq",
        "outputId": "884bd35b-27fc-4a9e-9d4a-98c8a4e197c6"
      },
      "execution_count": 15,
      "outputs": [
        {
          "output_type": "stream",
          "name": "stdout",
          "text": [
            "Python\n",
            "SQL\n",
            "Spark\n",
            "Hadoop\n",
            "Docker\n",
            "AWS\n",
            "GCP\n"
          ]
        }
      ]
    },
    {
      "cell_type": "code",
      "source": [
        "for cont in range(0, len(data_engineer)):\n",
        "    print(data_engineer[cont])"
      ],
      "metadata": {
        "colab": {
          "base_uri": "https://localhost:8080/"
        },
        "id": "dmXDkb9ovaUR",
        "outputId": "cf11f742-fdd3-46b2-ea1b-bfd69db26e63"
      },
      "execution_count": 18,
      "outputs": [
        {
          "output_type": "stream",
          "name": "stdout",
          "text": [
            "Python\n",
            "SQL\n",
            "Spark\n",
            "Hadoop\n",
            "Docker\n",
            "AWS\n",
            "GCP\n"
          ]
        }
      ]
    },
    {
      "cell_type": "code",
      "source": [
        "for i, v in enumerate(data_engineer):\n",
        "    print(f'{i} => {v}')"
      ],
      "metadata": {
        "colab": {
          "base_uri": "https://localhost:8080/"
        },
        "id": "rhF3DnVewXMv",
        "outputId": "daea5585-e313-4864-b44b-81c4a1a73097"
      },
      "execution_count": 19,
      "outputs": [
        {
          "output_type": "stream",
          "name": "stdout",
          "text": [
            "0 => Python\n",
            "1 => SQL\n",
            "2 => Spark\n",
            "3 => Hadoop\n",
            "4 => Docker\n",
            "5 => AWS\n",
            "6 => GCP\n"
          ]
        }
      ]
    },
    {
      "cell_type": "markdown",
      "source": [
        "### Usando sorted"
      ],
      "metadata": {
        "id": "v1qaghVJr83g"
      }
    },
    {
      "cell_type": "code",
      "source": [
        "print(sorted(data_engineer))"
      ],
      "metadata": {
        "colab": {
          "base_uri": "https://localhost:8080/"
        },
        "id": "4YOMYnC8r87L",
        "outputId": "9384f41c-e801-4d6a-91de-625693607019"
      },
      "execution_count": 20,
      "outputs": [
        {
          "output_type": "stream",
          "name": "stdout",
          "text": [
            "['AWS', 'Docker', 'GCP', 'Hadoop', 'Python', 'SQL', 'Spark']\n"
          ]
        }
      ]
    },
    {
      "cell_type": "markdown",
      "source": [
        "## Juntar duas ou mais tuplas\n",
        "- As tuplas podem ser de tipos de dados diferentes"
      ],
      "metadata": {
        "id": "vCM5XOtDr8_L"
      }
    },
    {
      "cell_type": "code",
      "source": [
        "tupla_a = ('A', 'A', 'B', 'C', 'D', 'D')\n",
        "tupla_b = ('Cachorro', 'Gato')\n",
        "tupla_c = tuple(range(10, 100, 10))\n",
        "tupla_abc = tupla_a + tupla_b + tupla_c\n",
        "\n",
        "print(tupla_a)\n",
        "print(tupla_b)\n",
        "print(tupla_c)\n",
        "print(tupla_abc)"
      ],
      "metadata": {
        "colab": {
          "base_uri": "https://localhost:8080/"
        },
        "id": "DgAszit7r9DI",
        "outputId": "25a4cb57-743d-4bd6-fc2f-ce2ea5354bdc"
      },
      "execution_count": 25,
      "outputs": [
        {
          "output_type": "stream",
          "name": "stdout",
          "text": [
            "('A', 'A', 'B', 'C', 'D', 'D')\n",
            "('Cachorro', 'Gato')\n",
            "(10, 20, 30, 40, 50, 60, 70, 80, 90)\n",
            "('A', 'A', 'B', 'C', 'D', 'D', 'Cachorro', 'Gato', 10, 20, 30, 40, 50, 60, 70, 80, 90)\n"
          ]
        }
      ]
    },
    {
      "cell_type": "markdown",
      "source": [
        "## Contar a quantidade de vezes que um valor aparece"
      ],
      "metadata": {
        "id": "BxjCW0IYr9Hp"
      }
    },
    {
      "cell_type": "code",
      "source": [
        "# letra A aparece duas vezes na tupla_abc\n",
        "tupla_abc.count('A')"
      ],
      "metadata": {
        "colab": {
          "base_uri": "https://localhost:8080/"
        },
        "id": "Ra7gElNrr9LI",
        "outputId": "eb421583-4740-4c63-dd2f-70adbc86aae4"
      },
      "execution_count": 30,
      "outputs": [
        {
          "output_type": "execute_result",
          "data": {
            "text/plain": [
              "2"
            ]
          },
          "metadata": {},
          "execution_count": 30
        }
      ]
    },
    {
      "cell_type": "code",
      "source": [
        "# Exibe o índice da letra A\n",
        "tupla_abc.index('A')"
      ],
      "metadata": {
        "colab": {
          "base_uri": "https://localhost:8080/"
        },
        "id": "FMqRprdQyPlO",
        "outputId": "1f0e7471-1d93-48e1-e783-5f5012762f1a"
      },
      "execution_count": 33,
      "outputs": [
        {
          "output_type": "execute_result",
          "data": {
            "text/plain": [
              "0"
            ]
          },
          "metadata": {},
          "execution_count": 33
        }
      ]
    },
    {
      "cell_type": "markdown",
      "source": [
        "### Deletando a tupla\n",
        "- OBS: Não é possível deletar um item da tupla, pois a tupla é `imutável`"
      ],
      "metadata": {
        "id": "JSY2N8cNy6pB"
      }
    },
    {
      "cell_type": "code",
      "source": [
        "del(data_engineer)"
      ],
      "metadata": {
        "id": "5TX4i83fysQe"
      },
      "execution_count": 34,
      "outputs": []
    }
  ]
}