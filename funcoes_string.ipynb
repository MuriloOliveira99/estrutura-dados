{
  "nbformat": 4,
  "nbformat_minor": 0,
  "metadata": {
    "colab": {
      "provenance": []
    },
    "kernelspec": {
      "name": "python3",
      "display_name": "Python 3"
    },
    "language_info": {
      "name": "python"
    }
  },
  "cells": [
    {
      "cell_type": "markdown",
      "source": [
        "# String em Python"
      ],
      "metadata": {
        "id": "8enTIcohDDXt"
      }
    },
    {
      "cell_type": "code",
      "execution_count": null,
      "metadata": {
        "id": "_LFfZUHEDCKh"
      },
      "outputs": [],
      "source": [
        "email = 'murilo123@hotmail.com'\n",
        "nome = 'Murilo Oliveira'"
      ]
    },
    {
      "cell_type": "markdown",
      "source": [
        "#### len() -> Retorna o tamanho de uma string"
      ],
      "metadata": {
        "id": "ttc8qTVnDMjM"
      }
    },
    {
      "cell_type": "code",
      "source": [
        "print(f'O tamanho da String \"{email}\" é de {len(email)} caracteres.')\n",
        "print(f'O tamanho da String \"{nome}\" é de {len(nome)} caracteres.')"
      ],
      "metadata": {
        "colab": {
          "base_uri": "https://localhost:8080/"
        },
        "id": "cXw5NDM-DLII",
        "outputId": "cbb1d6f3-a0e1-4fbb-f6fc-396013722aeb"
      },
      "execution_count": null,
      "outputs": [
        {
          "output_type": "stream",
          "name": "stdout",
          "text": [
            "O tamanho da String \"murilo123@hotmail.com\" é de 21 caracteres.\n",
            "O tamanho da String \"Murilo Oliveira\" é de 15 caracteres.\n"
          ]
        }
      ]
    },
    {
      "cell_type": "markdown",
      "source": [
        "#### string[indice] -> Retorna uma letra de uma string"
      ],
      "metadata": {
        "id": "bSCgMxchEHkC"
      }
    },
    {
      "cell_type": "code",
      "source": [
        "print(nome,'\\n')\n",
        "print(nome[0]) # retorna a primeira letra da variavel nome\n",
        "print(nome[1]) # retorna a segunda letra da variavel nome\n",
        "print(nome[-1]) # retorna a ultima letra da variavel nome\n",
        "print(nome[-2]) # retorna a penultima letra da variavel nome"
      ],
      "metadata": {
        "colab": {
          "base_uri": "https://localhost:8080/"
        },
        "id": "7PX9nWA_Dafm",
        "outputId": "d83b590c-20a7-45b0-ac16-a4203c88d301"
      },
      "execution_count": null,
      "outputs": [
        {
          "output_type": "stream",
          "name": "stdout",
          "text": [
            "Murilo Oliveira \n",
            "\n",
            "M\n",
            "u\n",
            "a\n",
            "r\n"
          ]
        }
      ]
    },
    {
      "cell_type": "markdown",
      "source": [
        "#### string[:indice] -> Retorna parte de uma string\n",
        "#### string[indice:] -> Retorna parte de uma string\n",
        "#### string[:] -> Retorna toda a string"
      ],
      "metadata": {
        "id": "RVYWZ-b0EINl"
      }
    },
    {
      "cell_type": "code",
      "source": [
        "# retorna murilo123@hotmail.co\n",
        "print(email[:-1])\n",
        "\n",
        "# retorna mu\n",
        "print(email[:2])\n",
        "\n",
        "# retorna @hotmail.com\n",
        "print(email[10:])\n",
        "\n",
        "# retorna .com\n",
        "print(email[17:])"
      ],
      "metadata": {
        "colab": {
          "base_uri": "https://localhost:8080/"
        },
        "id": "QmlJrRiCEIR_",
        "outputId": "65f691f3-daa9-4fbe-8078-4cdaa51edf60"
      },
      "execution_count": null,
      "outputs": [
        {
          "output_type": "stream",
          "name": "stdout",
          "text": [
            "murilo123@hotmail.co\n",
            "mu\n",
            "hotmail.com\n",
            ".com\n"
          ]
        }
      ]
    },
    {
      "cell_type": "markdown",
      "source": [
        "## Operações com String"
      ],
      "metadata": {
        "id": "gBvf7o5KEIXz"
      }
    },
    {
      "cell_type": "code",
      "source": [
        "faturamento = 1000\n",
        "custo = 500\n",
        "lucro = faturamento - custo"
      ],
      "metadata": {
        "id": "9Y2npPYfLkgT"
      },
      "execution_count": null,
      "outputs": []
    },
    {
      "cell_type": "markdown",
      "source": [
        "#### str() -> transforma número em string"
      ],
      "metadata": {
        "id": "oZFMCBUWLhtr"
      }
    },
    {
      "cell_type": "code",
      "source": [
        "print('O faturamento da loja foi de: ' + str(faturamento))"
      ],
      "metadata": {
        "colab": {
          "base_uri": "https://localhost:8080/"
        },
        "id": "xwzvHA2qEIcU",
        "outputId": "f2781582-6b19-46c2-cc6c-a73f10f8e1ad"
      },
      "execution_count": null,
      "outputs": [
        {
          "output_type": "stream",
          "name": "stdout",
          "text": [
            "O faturamento da loja foi de: 1000\n"
          ]
        }
      ]
    },
    {
      "cell_type": "markdown",
      "source": [
        "#### format() -> formata o(s) valor(es) especificado(s) e os insere dentro do espaço reservado da string."
      ],
      "metadata": {
        "id": "7zFmXKgZEIgr"
      }
    },
    {
      "cell_type": "code",
      "source": [
        "print('O faturamento foi de {}. O custo foi de {} e o lucro foi de {}'.format(faturamento, custo, lucro))\n",
        "\n",
        "# e se eu quiser repetir uma das variavel?\n",
        "print('O faturamento foi de {0}. O custo foi de {1} e o lucro foi de {2}.\\nO faturamento de {0} foi o maior entre todos os meses.'.format(faturamento, custo, lucro))"
      ],
      "metadata": {
        "colab": {
          "base_uri": "https://localhost:8080/"
        },
        "id": "ehAgpNVJEIlj",
        "outputId": "560dd78b-2547-4350-baa2-99301c58cd50"
      },
      "execution_count": null,
      "outputs": [
        {
          "output_type": "stream",
          "name": "stdout",
          "text": [
            "O faturamento foi de 1000. O custo foi de 500 e o lucro foi de 500\n",
            "O faturamento foi de 1000. O custo foi de 500 e o lucro foi de 500.\n",
            "O faturamento de 1000 foi o maior entre todos os meses.\n"
          ]
        }
      ]
    },
    {
      "cell_type": "markdown",
      "source": [
        "#### in -> Verifica se existe um caractere especifico dentro de uma sintr"
      ],
      "metadata": {
        "id": "Zf_aPUPlEIqP"
      }
    },
    {
      "cell_type": "code",
      "source": [
        "print('@' in 'murilo@hotmail.com')\n",
        "print('@' in 'murilo#hotmail.com')"
      ],
      "metadata": {
        "colab": {
          "base_uri": "https://localhost:8080/"
        },
        "id": "6q09cRWwEIvG",
        "outputId": "81c681fa-84db-4444-dc97-00ab8d64e6a2"
      },
      "execution_count": null,
      "outputs": [
        {
          "output_type": "stream",
          "name": "stdout",
          "text": [
            "True\n",
            "False\n"
          ]
        }
      ]
    },
    {
      "cell_type": "markdown",
      "source": [
        "## Métodos de String em Python"
      ],
      "metadata": {
        "id": "swJGwfcVSy-h"
      }
    },
    {
      "cell_type": "markdown",
      "source": [
        "#### capitalize() -> Coloca a primeira letra da string em maiuscula e o resto em minuscula"
      ],
      "metadata": {
        "id": "t1hd_IFvNyty"
      }
    },
    {
      "cell_type": "code",
      "source": [
        "nome2 = 'murilo Oliveira tEste'\n",
        "print(nome2.capitalize())"
      ],
      "metadata": {
        "id": "OWlOylItOKMF",
        "colab": {
          "base_uri": "https://localhost:8080/"
        },
        "outputId": "315f60f1-4d0e-4620-9915-b0fa78bf42b1"
      },
      "execution_count": null,
      "outputs": [
        {
          "output_type": "stream",
          "name": "stdout",
          "text": [
            "Murilo oliveira teste\n"
          ]
        }
      ]
    },
    {
      "cell_type": "markdown",
      "source": [
        "#### title() -> Coloca a 1ª letra de cada palavra em maiúscula"
      ],
      "metadata": {
        "id": "owcWDMRyVHGm"
      }
    },
    {
      "cell_type": "code",
      "source": [
        "print(nome2.title())"
      ],
      "metadata": {
        "colab": {
          "base_uri": "https://localhost:8080/"
        },
        "id": "61bK2SmyVHMq",
        "outputId": "1a1f79da-28e3-40fb-e86a-a0881dd77972"
      },
      "execution_count": null,
      "outputs": [
        {
          "output_type": "stream",
          "name": "stdout",
          "text": [
            "Murilo Oliveira Teste\n"
          ]
        }
      ]
    },
    {
      "cell_type": "markdown",
      "source": [
        "#### casefold() -> retorna toda a string em minuscula"
      ],
      "metadata": {
        "id": "dagJbGpKOlrf"
      }
    },
    {
      "cell_type": "code",
      "source": [
        "print(nome2.casefold())"
      ],
      "metadata": {
        "colab": {
          "base_uri": "https://localhost:8080/"
        },
        "id": "LbaZ24MLOXcL",
        "outputId": "225f655b-e1a8-44d0-9a7b-4724b685a9a8"
      },
      "execution_count": null,
      "outputs": [
        {
          "output_type": "stream",
          "name": "stdout",
          "text": [
            "murilo oliveira teste\n"
          ]
        }
      ]
    },
    {
      "cell_type": "markdown",
      "source": [
        "#### count() -> Retorna quantas vezes uma letra aparece na string\n",
        "- OBS: é Case sensitivity"
      ],
      "metadata": {
        "id": "1obzoA4HOmLj"
      }
    },
    {
      "cell_type": "code",
      "source": [
        "print(nome2.count('i'))\n",
        "print(nome2.count('o'))"
      ],
      "metadata": {
        "colab": {
          "base_uri": "https://localhost:8080/"
        },
        "id": "TONan8QeOmQK",
        "outputId": "ed1c5320-1710-4649-d03b-92fbc46e4bd3"
      },
      "execution_count": null,
      "outputs": [
        {
          "output_type": "stream",
          "name": "stdout",
          "text": [
            "3\n",
            "1\n"
          ]
        }
      ]
    },
    {
      "cell_type": "markdown",
      "source": [
        "#### endswith() -> retorna True se a string terminar com o valor especificado, caso contrário, False."
      ],
      "metadata": {
        "id": "WklkGwi7OmUC"
      }
    },
    {
      "cell_type": "code",
      "source": [
        "print(nome2.endswith('e'))\n",
        "print(nome2.endswith('teste'))"
      ],
      "metadata": {
        "colab": {
          "base_uri": "https://localhost:8080/"
        },
        "id": "Vxv6SjH2OmYA",
        "outputId": "4f81b5c6-7242-4241-83fa-dc15ec168667"
      },
      "execution_count": null,
      "outputs": [
        {
          "output_type": "stream",
          "name": "stdout",
          "text": [
            "True\n",
            "False\n"
          ]
        }
      ]
    },
    {
      "cell_type": "markdown",
      "source": [
        "#### find() -> retorna o índice de primeira ocorrência da substring (se encontrada).<br> Se não for encontrado, ele retorna -1"
      ],
      "metadata": {
        "id": "y7eL8Cf5Ombs"
      }
    },
    {
      "cell_type": "code",
      "source": [
        "print(nome2.find('i'))\n",
        "print(nome2.find('a'))"
      ],
      "metadata": {
        "colab": {
          "base_uri": "https://localhost:8080/"
        },
        "id": "pdFJVb0vQxru",
        "outputId": "17f8d000-584d-41dc-cb88-c066c3da254c"
      },
      "execution_count": null,
      "outputs": [
        {
          "output_type": "stream",
          "name": "stdout",
          "text": [
            "3\n",
            "14\n"
          ]
        }
      ]
    },
    {
      "cell_type": "markdown",
      "source": [
        "#### isalnum() -> retorna True se todos os caracteres forem alfanuméricos, significando letra do alfabeto (a-z) e números (0-9)"
      ],
      "metadata": {
        "id": "qfXRAjyuOmjB"
      }
    },
    {
      "cell_type": "code",
      "source": [
        "print(nome2.isalnum())"
      ],
      "metadata": {
        "colab": {
          "base_uri": "https://localhost:8080/"
        },
        "id": "r8SOySvlOmmX",
        "outputId": "8fc58923-d61f-4f1b-b446-8818c90089d5"
      },
      "execution_count": null,
      "outputs": [
        {
          "output_type": "stream",
          "name": "stdout",
          "text": [
            "False\n"
          ]
        }
      ]
    },
    {
      "cell_type": "markdown",
      "source": [
        "#### isalpha() -> Retorna True se todos os caracteres forem letras do alfabeto (a-z). "
      ],
      "metadata": {
        "id": "AMVXMQQzOmp4"
      }
    },
    {
      "cell_type": "code",
      "source": [
        "# retorna falso pq tem espaço\n",
        "print(nome2.isalpha())"
      ],
      "metadata": {
        "colab": {
          "base_uri": "https://localhost:8080/"
        },
        "id": "Hd3wHnkJOmtQ",
        "outputId": "af863c25-a9f3-47b4-fb15-64629e8c6cb2"
      },
      "execution_count": null,
      "outputs": [
        {
          "output_type": "stream",
          "name": "stdout",
          "text": [
            "False\n"
          ]
        }
      ]
    },
    {
      "cell_type": "markdown",
      "source": [
        "#### isnumeric() -> Retorna True se todos os caracteres na cadeia de caracteres são numéricos"
      ],
      "metadata": {
        "id": "NLNMh0a2OmxY"
      }
    },
    {
      "cell_type": "code",
      "source": [
        "print(nome2.isnumeric())"
      ],
      "metadata": {
        "colab": {
          "base_uri": "https://localhost:8080/"
        },
        "id": "gp10qrXBOm09",
        "outputId": "1ec21569-ce34-4eb1-8ce1-c73938e08be5"
      },
      "execution_count": null,
      "outputs": [
        {
          "output_type": "stream",
          "name": "stdout",
          "text": [
            "False\n"
          ]
        }
      ]
    },
    {
      "cell_type": "markdown",
      "source": [
        "#### replace() -> É utilizado para substituir um ou mais trechos em uma string"
      ],
      "metadata": {
        "id": "C8ePd_X5Om45"
      }
    },
    {
      "cell_type": "code",
      "source": [
        "# substituir a palavra 'teste' por 'aprovado'\n",
        "print(nome2.replace('tEste', 'aprovado'))"
      ],
      "metadata": {
        "colab": {
          "base_uri": "https://localhost:8080/"
        },
        "id": "rm4IEpm0Om8B",
        "outputId": "73216534-6657-4f46-e975-f88cd02a9731"
      },
      "execution_count": null,
      "outputs": [
        {
          "output_type": "stream",
          "name": "stdout",
          "text": [
            "murilo Oliveira aprovado\n"
          ]
        }
      ]
    },
    {
      "cell_type": "markdown",
      "source": [
        "#### split() -> É  utilizado para dividir o conteúdo de uma string em uma lista\n",
        "- 1º param.: string\n",
        "- 2º param.: indica o caractere utilizado como separador da string\n",
        "- 3º param.(opcional): representa a quantidade máxima de divisões realizadas"
      ],
      "metadata": {
        "id": "Hg8N4ihuSmo3"
      }
    },
    {
      "cell_type": "code",
      "source": [
        "# padrão é o espaço\n",
        "print(nome2.split())\n",
        "print(nome2.split('i'))"
      ],
      "metadata": {
        "colab": {
          "base_uri": "https://localhost:8080/"
        },
        "id": "Rx4wTrk6Sm5i",
        "outputId": "53b8a6f6-750f-41f5-80c5-3e7349bdd474"
      },
      "execution_count": null,
      "outputs": [
        {
          "output_type": "stream",
          "name": "stdout",
          "text": [
            "['murilo', 'Oliveira', 'tEste']\n",
            "['mur', 'lo Ol', 've', 'ra tEste']\n"
          ]
        }
      ]
    },
    {
      "cell_type": "markdown",
      "source": [
        "#### startswith() -> Verifica se a string começa com determinado letra/palavra/texto"
      ],
      "metadata": {
        "id": "CSLF1kqSSnCJ"
      }
    },
    {
      "cell_type": "code",
      "source": [
        "print(nome2.startswith('m'))\n",
        "print(nome2.startswith('murilo'))\n",
        "print(nome2.startswith('urilo'))"
      ],
      "metadata": {
        "colab": {
          "base_uri": "https://localhost:8080/"
        },
        "id": "epcDDPNrSnI2",
        "outputId": "ea1faa88-27d3-48a6-b2ea-0d226ac83ae2"
      },
      "execution_count": null,
      "outputs": [
        {
          "output_type": "stream",
          "name": "stdout",
          "text": [
            "True\n",
            "True\n",
            "False\n"
          ]
        }
      ]
    },
    {
      "cell_type": "markdown",
      "source": [
        "strip() -> Retira caracteres indesejados dos textos. Por padrão, retira espaços “extras” no início e no final"
      ],
      "metadata": {
        "id": "oFhrklv0SnOP"
      }
    },
    {
      "cell_type": "code",
      "source": [
        "nome2 = '   murilo Oliveira aprovado     '\n",
        "print(nome2)\n",
        "print(nome2.strip())"
      ],
      "metadata": {
        "colab": {
          "base_uri": "https://localhost:8080/"
        },
        "id": "4TrrdMiASnT_",
        "outputId": "2de3d26c-6b38-4470-81e5-a21fb4ec55e1"
      },
      "execution_count": null,
      "outputs": [
        {
          "output_type": "stream",
          "name": "stdout",
          "text": [
            "   murilo Oliveira aprovado     \n",
            "murilo Oliveira aprovado\n"
          ]
        }
      ]
    },
    {
      "cell_type": "markdown",
      "source": [
        "upper() -> Coloca o texto todo em letra maiúscula."
      ],
      "metadata": {
        "id": "4MemzSFkVCZT"
      }
    },
    {
      "cell_type": "code",
      "source": [
        "print(nome2.upper())"
      ],
      "metadata": {
        "colab": {
          "base_uri": "https://localhost:8080/"
        },
        "id": "QAS0hqK3Omfd",
        "outputId": "44ccb260-e9b0-4bfe-d94c-518d4bd251c6"
      },
      "execution_count": null,
      "outputs": [
        {
          "output_type": "stream",
          "name": "stdout",
          "text": [
            "   MURILO OLIVEIRA APROVADO     \n"
          ]
        }
      ]
    }
  ]
}