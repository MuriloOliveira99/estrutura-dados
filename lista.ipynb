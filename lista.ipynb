{
  "nbformat": 4,
  "nbformat_minor": 0,
  "metadata": {
    "colab": {
      "provenance": []
    },
    "kernelspec": {
      "name": "python3",
      "display_name": "Python 3"
    },
    "language_info": {
      "name": "python"
    }
  },
  "cells": [
    {
      "cell_type": "markdown",
      "source": [
        "# Python - Lista"
      ],
      "metadata": {
        "id": "32rPnB9IjtfJ"
      }
    },
    {
      "cell_type": "markdown",
      "source": [
        "1. Faça um programa que leia 5 valores números e guarde-os em uma lista. No final, mostre qual foi o maior e o menor valor digitados e as suas respectivas posições na lista.\n"
      ],
      "metadata": {
        "id": "OQWAFjkrjxb8"
      }
    },
    {
      "cell_type": "code",
      "execution_count": null,
      "metadata": {
        "colab": {
          "base_uri": "https://localhost:8080/"
        },
        "id": "3Ok9aL3xjtB6",
        "outputId": "dcd3e7b7-101b-4765-837c-5c94204e0c49"
      },
      "outputs": [
        {
          "output_type": "stream",
          "name": "stdout",
          "text": [
            "Digite o 1º número: 1\n",
            "Digite o 2º número: 3\n",
            "Digite o 3º número: 5\n",
            "Digite o 4º número: 3\n",
            "Digite o 5º número: 1\n",
            "Maior valor: 5\n",
            "Menor valor: 1\n"
          ]
        }
      ],
      "source": [
        "lista_num = []\n",
        "for i in range(1, 6):\n",
        "    num = int(input(f'Digite o {i}º número: '))\n",
        "    lista_num.append(num)\n",
        "\n",
        "lista_num.sort()\n",
        "print(f\"Maior valor: {lista_num[-1]}\\nMenor valor: {lista_num[0]}\")"
      ]
    },
    {
      "cell_type": "markdown",
      "source": [
        "2. Crie um programa onde o usuário possa digitar vários valores numéricos\n",
        "e cadastre-os em uma lista.\n",
        "Caso o número já exista lá dentro, ele não será adicionado.\n",
        "No final, serão exibidos todos os valores únicos digitados, em ordem crescente."
      ],
      "metadata": {
        "id": "Nfi4ZmE8j_AO"
      }
    },
    {
      "cell_type": "code",
      "source": [
        "lista_num = []\n",
        "cont = 1\n",
        "while True:\n",
        "    num = int(input(f'Digite o {cont}º valor: '))\n",
        "    cont +=1\n",
        "    if num == 999:\n",
        "        break\n",
        "    if num not in lista_num:\n",
        "        lista_num.append(num)\n",
        "lista_num.sort()\n",
        "\n",
        "print(lista_num)"
      ],
      "metadata": {
        "colab": {
          "base_uri": "https://localhost:8080/"
        },
        "id": "cJX2RXqQj_FV",
        "outputId": "74c71c95-5c67-4fe3-e3ff-0883acd68906"
      },
      "execution_count": null,
      "outputs": [
        {
          "output_type": "stream",
          "name": "stdout",
          "text": [
            "Digite o 1º valor: 3\n",
            "Digite o 2º valor: 2\n",
            "Digite o 3º valor: 1\n",
            "Digite o 4º valor: 5\n",
            "Digite o 5º valor: 5\n",
            "Digite o 6º valor: 6\n",
            "Digite o 7º valor: 6\n",
            "Digite o 8º valor: 7\n",
            "Digite o 9º valor: 7\n",
            "Digite o 10º valor: 999\n",
            "[1, 2, 3, 5, 6, 7]\n"
          ]
        }
      ]
    },
    {
      "cell_type": "markdown",
      "source": [
        "3. Crie um programa onde o usuário possa digitar cinco valores numéricos\n",
        "e cadastre-os em uma lista, já na posição correta de inserção\n",
        "(sem usar o sort()).\n",
        "No final, mostre a lista ordenada na tela."
      ],
      "metadata": {
        "id": "OBVfEB6Qj_Ua"
      }
    },
    {
      "cell_type": "code",
      "source": [],
      "metadata": {
        "id": "O9FHgMtTj_Zn"
      },
      "execution_count": null,
      "outputs": []
    },
    {
      "cell_type": "markdown",
      "source": [
        "4. Crie um programa que vai ler vários números e colocá-los em uma lista<br>\n",
        "Depois disso, mostre:<br>\n",
        "a) quantos números foram digitados<br>\n",
        "b) a lista de valores, ordenada de forma decrescente<br>\n",
        "c) se o valor 5 foi digitado e está ou não na lista."
      ],
      "metadata": {
        "id": "-rag0S5Kj_ez"
      }
    },
    {
      "cell_type": "code",
      "source": [
        "lista_num = list()\n",
        "cont = 1\n",
        "while True:\n",
        "    num = int(input(f'Digite o {cont}º valor: '))\n",
        "    cont += 1\n",
        "\n",
        "    if num == 999:\n",
        "        break\n",
        "    lista_num.append(num)\n",
        "\n",
        "\n",
        "print(f'Quantos números foram digitados? {len(lista_num)}')\n",
        "lista_num.sort(reverse=True)\n",
        "print(f'Lista ordenada em ordem decrescente: {lista_num}')\n",
        "if 5 in lista_num:\n",
        "    print('O valor 53 está na lista')\n",
        "else:\n",
        "    print('O valor 5 não está na lista')"
      ],
      "metadata": {
        "id": "6cEnvKl-j_jI",
        "colab": {
          "base_uri": "https://localhost:8080/"
        },
        "outputId": "2d5db73d-01ba-4c90-ebbf-b6c711a14367"
      },
      "execution_count": null,
      "outputs": [
        {
          "output_type": "stream",
          "name": "stdout",
          "text": [
            "Digite o 1º valor: 10\n",
            "Digite o 2º valor: 3\n",
            "Digite o 3º valor: 2\n",
            "Digite o 4º valor: 8\n",
            "Digite o 5º valor: 4\n",
            "Digite o 6º valor: 999\n",
            "Quantos números foram digitados? 5\n",
            "Lista ordenada em ordem decrescente: [10, 8, 4, 3, 2]\n",
            "O valor 5 não está na lista\n"
          ]
        }
      ]
    },
    {
      "cell_type": "markdown",
      "source": [
        "55. Crie um programa que vai ler vários números e colocar em uma lista.<br>\n",
        "Depois disso, crie duas listas extras que vão conter<br> apenas os valores pares\n",
        "e os valores ímpares digitados, respectivamente.<br>\n",
        "Ao final, mostre o conteúdo das três listas geradas."
      ],
      "metadata": {
        "id": "iUxkm5LVj_z5"
      }
    },
    {
      "cell_type": "code",
      "source": [
        "lista_num = []\n",
        "lista_pares = []\n",
        "lista_impares = []\n",
        "while True:\n",
        "    num = int(input('Números: '))\n",
        "    if num == 999:\n",
        "        break\n",
        "    lista_num.append(num)\n",
        "\n",
        "for num in lista_num:\n",
        "    if num % 2 == 0:\n",
        "        lista_pares.append(num)\n",
        "    else:\n",
        "        lista_impares.append(num)\n",
        "\n",
        "print(f'\\nNúmeros Digitados:\\n{lista_num}\\n')\n",
        "print(f'Números Pares:\\n{lista_pares}\\n')\n",
        "print(f'Números Ímpares:\\n{lista_impares}')"
      ],
      "metadata": {
        "id": "BAHQhP3Pj_5L",
        "colab": {
          "base_uri": "https://localhost:8080/"
        },
        "outputId": "86ae0aba-b954-4b1f-df1a-3d62c4608dc0"
      },
      "execution_count": null,
      "outputs": [
        {
          "output_type": "stream",
          "name": "stdout",
          "text": [
            "Números: 1\n",
            "Números: 2\n",
            "Números: 3\n",
            "Números: 999\n",
            "\n",
            "Números Digitados:\n",
            "[1, 2, 3]\n",
            "\n",
            "Números Pares:\n",
            "[2]\n",
            "\n",
            "Números Ímpares:\n",
            "[1, 3]\n"
          ]
        }
      ]
    },
    {
      "cell_type": "markdown",
      "source": [
        "6. Crie um programa onde o usuário digite uma expressão qualquer\n",
        "que use parênteses.\n",
        "Seu aplicativo deverá analisar se a expressão passada\n",
        "está com os parênteses abertos e fechados na ordem correta."
      ],
      "metadata": {
        "id": "nvtl1c3jj_-g"
      }
    },
    {
      "cell_type": "code",
      "source": [
        "exp = input('Digite sua expressão: ')\n",
        "lista = list()\n",
        "for simb in exp:\n",
        "    if simb == '(':\n",
        "        lista.append('(')\n",
        "    elif simb == ')':\n",
        "        if len(lista) > 0:\n",
        "            lista.pop()\n",
        "        else:\n",
        "            lista.append(')')\n",
        "            break\n",
        "if len(lista) == 0:\n",
        "    print('Expressão valida!')\n",
        "else:\n",
        "    print('Expressão invalida!')"
      ],
      "metadata": {
        "id": "SQbI0DjekADD",
        "colab": {
          "base_uri": "https://localhost:8080/"
        },
        "outputId": "972366be-3dad-4f84-f75d-699eb9d5ba5b"
      },
      "execution_count": null,
      "outputs": [
        {
          "output_type": "stream",
          "name": "stdout",
          "text": [
            "Digite sua expressão: 984(8472378420(*74(\n",
            "Expressão invalida!\n"
          ]
        }
      ]
    },
    {
      "cell_type": "markdown",
      "source": [
        "7. Faça um programa que leia nome e peso de várias pessoas\n",
        "guardando tudo em uma lista.<br>\n",
        "No final, mostre:<br>\n",
        "A) quantas pessoas foram cadastradas.<br>\n",
        "B) uma listagem com as pessoas mais pesadas<br>\n",
        "C) uma listagem com as pessoas mais leves<br>\n"
      ],
      "metadata": {
        "id": "E-eFdOq4ksEw"
      }
    },
    {
      "cell_type": "code",
      "source": [
        "lista_pessoas = []\n",
        "continuar = 'S'\n",
        "while True:\n",
        "    nome = input('Nome: ')\n",
        "    peso = float(input('Peso: '))\n",
        "    lista_pessoas.append([nome, peso])\n",
        "    continuar = input('Continuar?[S/N] ').upper()\n",
        "\n",
        "    if continuar == 'N':\n",
        "        break\n",
        "\n",
        "maior_valor = max(lista_pessoas, key=lambda x: x[1])[1]\n",
        "menor_valor = min(lista_pessoas, key=lambda x: x[1])[1]\n",
        "print(f'\\nTotal de pessoas cadastradas: {len(lista_pessoas)}\\n')\n",
        "\n",
        "print(f'Pesados ({maior_valor}):')\n",
        "for pessoa in lista_pessoas:\n",
        "    if pessoa[1] == maior_valor:\n",
        "        print(pessoa[0])\n",
        "\n",
        "print(f'\\nLeves ({menor_valor}):')\n",
        "for pessoa in lista_pessoas:\n",
        "    if pessoa[1] == menor_valor:\n",
        "        print(pessoa[0])\n",
        ""
      ],
      "metadata": {
        "colab": {
          "base_uri": "https://localhost:8080/"
        },
        "id": "W5QQ3ACLk4eI",
        "outputId": "43314d86-794b-486a-d575-ac3818ecd054"
      },
      "execution_count": null,
      "outputs": [
        {
          "output_type": "stream",
          "name": "stdout",
          "text": [
            "Nome: Murilo\n",
            "Peso: 100\n",
            "Continuar?[S/N] S\n",
            "Nome: Maria\n",
            "Peso: 100\n",
            "Continuar?[S/N] S\n",
            "Nome: João\n",
            "Peso: 60\n",
            "Continuar?[S/N] S\n",
            "Nome: Clara\n",
            "Peso: 60\n",
            "Continuar?[S/N] S\n",
            "Nome: José\n",
            "Peso: 60\n",
            "Continuar?[S/N] N\n",
            "0 0\n",
            "\n",
            "Total de pessoas cadastradas: 5\n",
            "\n",
            "Pesados (100.0):\n",
            "Murilo\n",
            "Maria\n",
            "\n",
            "Leves (60.0):\n",
            "João\n",
            "Clara\n",
            "José\n"
          ]
        }
      ]
    },
    {
      "cell_type": "markdown",
      "source": [
        "9. Crie um programa onde o usuário possa digitar\n",
        "sete valores numéricos\n",
        "e cadastre-os em uma lista única\n",
        "que mantenha separados os valores pares e ímpares.\n",
        "No final, mostre os valores pares e ímpares\n",
        "em ordem crescente."
      ],
      "metadata": {
        "id": "BfdmzmnZk5fU"
      }
    },
    {
      "cell_type": "code",
      "source": [
        "lista_num = [[], []]\n",
        "\n",
        "for i in range(1, 8):\n",
        "    num = int(input(f'Valor {i}: '))\n",
        "    if num % 2 != 0:\n",
        "        lista_num[1].append(num)\n",
        "    else:\n",
        "        lista_num[0].append(num)\n",
        "\n",
        "lista_num[0].sort()\n",
        "lista_num[1].sort()\n",
        "print(lista_num)\n",
        "\n"
      ],
      "metadata": {
        "id": "cHUaWQDVksLA",
        "colab": {
          "base_uri": "https://localhost:8080/"
        },
        "outputId": "9d5d9cf7-618c-4c51-ab64-239d709723c9"
      },
      "execution_count": null,
      "outputs": [
        {
          "output_type": "stream",
          "name": "stdout",
          "text": [
            "Valor 1: 90\n",
            "Valor 2: 3\n",
            "Valor 3: 9\n",
            "Valor 4: 5\n",
            "Valor 5: 6\n",
            "Valor 6: 100\n",
            "Valor 7: 86\n",
            "[[6, 86, 90, 100], [3, 5, 9]]\n"
          ]
        }
      ]
    },
    {
      "cell_type": "markdown",
      "source": [
        "28. Crie um programa que crie uma matriz 3.3\n",
        "e preencha com valores lidos pelo teclado.<br>\n",
        "No final, mostre a matriz na tela com a formatação correta"
      ],
      "metadata": {
        "id": "DNFRbH0jk-af"
      }
    },
    {
      "cell_type": "code",
      "source": [
        "matriz = [[],[],[]]\n",
        "\n",
        "for i in range(3):\n",
        "    while len(matriz[i]) < 3:\n",
        "        num = int(input(f'Matriz[{i+1}][{len(matriz[i])+1}]: '))\n",
        "        matriz[i].append(num)\n",
        "\n",
        "for m in matriz:\n",
        "    for i in m:\n",
        "        print(f'[ {i:^5} ]', end=' ')\n",
        "    print()\n",
        "\n",
        "# {:^5} --> insere 5 espaços centralizados"
      ],
      "metadata": {
        "id": "n90SPMd9k-e8",
        "colab": {
          "base_uri": "https://localhost:8080/"
        },
        "outputId": "f83deb5a-680f-40d9-d3cc-873a095e8242"
      },
      "execution_count": null,
      "outputs": [
        {
          "output_type": "stream",
          "name": "stdout",
          "text": [
            "Matriz[1][1]: 1\n",
            "Matriz[1][2]: 2\n",
            "Matriz[1][3]: 3\n",
            "Matriz[2][1]: 4\n",
            "Matriz[2][2]: 5\n",
            "Matriz[2][3]: 6\n",
            "Matriz[3][1]: 7\n",
            "Matriz[3][2]: 8\n",
            "Matriz[3][3]: 9\n",
            "[   1   ] [   2   ] [   3   ] \n",
            "[   4   ] [   5   ] [   6   ] \n",
            "[   7   ] [   8   ] [   9   ] \n"
          ]
        }
      ]
    },
    {
      "cell_type": "markdown",
      "source": [
        "9. Aprimore o desafio anterior, mostrando no final:<br>\n",
        "A) a soma de todos os valores pares digitados<br>\n",
        "B) a soma dos valores da terceira coluna<br>\n",
        "C) o maior valor da segunda linha"
      ],
      "metadata": {
        "id": "nIGwPds0lAl5"
      }
    },
    {
      "cell_type": "code",
      "source": [
        "pares = []\n",
        "for m in matriz:\n",
        "    for i in m:\n",
        "        if i % 2 == 0:\n",
        "            pares.append(i)\n",
        "print(f'A) A soma dos valores pares {pares} são {sum(pares)} ')\n",
        "print(f'B) A Soma da 3º coluna {matriz[2]} da matriz é {sum(matriz[2])}')\n",
        "print(f'C) O maior valor da 2º coluna da matriz é {min(matriz[1])}')"
      ],
      "metadata": {
        "id": "CsG5TMeflAqw",
        "colab": {
          "base_uri": "https://localhost:8080/"
        },
        "outputId": "402c18a1-e3d8-40d2-8227-1d28cab9e685"
      },
      "execution_count": null,
      "outputs": [
        {
          "output_type": "stream",
          "name": "stdout",
          "text": [
            "A) A soma dos valores pares [2, 4, 6, 8] são 20 \n",
            "B) A Soma da 3º coluna [7, 8, 9] da matriz é 24\n",
            "C) O maior valor da 2º coluna da matriz é 4\n"
          ]
        }
      ]
    },
    {
      "cell_type": "markdown",
      "source": [
        "10. Faça um programa que ajude um jogador da MEGA SENA a criar palpites.\n",
        "O programa vai perguntar quantos jogos serão gerados\n",
        "e vai sortear 6 números entre 1 e 60 para cada jogo,\n",
        "cadastrando tudo em uma lista composta."
      ],
      "metadata": {
        "id": "C4vVRQoClKqc"
      }
    },
    {
      "cell_type": "code",
      "source": [
        "from random import randint\n",
        "\n",
        "qtd_jogos = int(input('Quantos jogos deseja fazer? '))\n",
        "jogos = []\n",
        "\n",
        "\n",
        "for i in range(qtd_jogos):\n",
        "    jogo = []\n",
        "    for valores in range(6):\n",
        "        sorteio = randint(1, 60)\n",
        "        if sorteio in jogo:\n",
        "            sorteio = randint(1, 60)\n",
        "            jogo.append(sorteio)\n",
        "        else:\n",
        "            jogo.append(sorteio)\n",
        "    jogos.append(jogo)\n",
        "\n",
        "print(f'Você gerou um total de {len(jogos)} jogos')\n",
        "for i, j in enumerate(jogos):\n",
        "    print(f'Jogo {i+1}: {j}')"
      ],
      "metadata": {
        "id": "TCzkQBR3Q-Xc",
        "colab": {
          "base_uri": "https://localhost:8080/"
        },
        "outputId": "48bfbb50-3317-4e11-f443-b255903a38ca"
      },
      "execution_count": null,
      "outputs": [
        {
          "output_type": "stream",
          "name": "stdout",
          "text": [
            "Quantos jogos deseja fazer? 2\n",
            "Você gerou um total de 2 jogos\n",
            "Jogo 1: [7, 1, 34, 56, 35, 49]\n",
            "Jogo 2: [55, 1, 34, 58, 57, 52]\n"
          ]
        }
      ]
    },
    {
      "cell_type": "code",
      "source": [
        "import random\n",
        "for x in range(int(input('Número de jogos: '))):\n",
        "    print(f'Jogo {x+1}: {random.sample(range(1, 60), 6)}')"
      ],
      "metadata": {
        "colab": {
          "base_uri": "https://localhost:8080/"
        },
        "id": "H9oN7dQ2nnbw",
        "outputId": "e9625c00-9860-44b5-ebfb-b4dd89819c46"
      },
      "execution_count": null,
      "outputs": [
        {
          "output_type": "stream",
          "name": "stdout",
          "text": [
            "Número de jogos: 1\n",
            "Jogo 1: [23, 28, 39, 7, 53, 42]\n"
          ]
        }
      ]
    },
    {
      "cell_type": "code",
      "source": [
        "# Faça um programa que leia o peso de cinco pessoas.No final, mostre\n",
        "# qual foi o maior e o menor peso lidos\n",
        "\n",
        "maior = 0\n",
        "menor = 0\n",
        "for p in range(1, 6):\n",
        "    peso = float(input(f'{p}º Peso: '))\n",
        "\n",
        "    if p == 1:\n",
        "       maior = peso\n",
        "       menor = peso\n",
        "    else:\n",
        "        if peso > maior:\n",
        "            maior = peso\n",
        "        if peso < menor:\n",
        "            menor = peso\n",
        "\n",
        "print(maior, menor)"
      ],
      "metadata": {
        "colab": {
          "base_uri": "https://localhost:8080/"
        },
        "id": "bTtpH8QzQ-rj",
        "outputId": "da31f4bb-1ce7-41de-b33e-d0e6f49f71b9"
      },
      "execution_count": null,
      "outputs": [
        {
          "output_type": "stream",
          "name": "stdout",
          "text": [
            "1º Peso: 50.0\n",
            "2º Peso: 60.0\n",
            "3º Peso: 80.0\n",
            "4º Peso: 45.0\n",
            "5º Peso: 70.0\n",
            "80.0 45.0\n"
          ]
        }
      ]
    },
    {
      "cell_type": "code",
      "source": [
        "import random\n",
        "\n",
        "teste = random.sample(range(1, 60), 6)\n",
        "print(teste)"
      ],
      "metadata": {
        "colab": {
          "base_uri": "https://localhost:8080/"
        },
        "id": "wie5N-adi_h3",
        "outputId": "61216c87-b3c4-4354-98bb-18fdcc85d2a8"
      },
      "execution_count": null,
      "outputs": [
        {
          "output_type": "stream",
          "name": "stdout",
          "text": [
            "[37, 15, 27, 18, 40, 50]\n"
          ]
        }
      ]
    },
    {
      "cell_type": "code",
      "source": [
        "listas = []\n",
        "\n",
        "num = int(input('Quantas listas deseja gerar? '))\n",
        "for i in range(num):\n",
        "    lista_num = []\n",
        "    for i in range(6):\n",
        "        num = int(input(f'Digite o {i+1}º num: '))\n",
        "        lista_num.append(num)\n",
        "\n",
        "    listas.append(lista_num)\n",
        "print(listas)"
      ],
      "metadata": {
        "id": "dxXJXl28on4p",
        "colab": {
          "base_uri": "https://localhost:8080/"
        },
        "outputId": "03087349-9c7d-41b6-8e8c-aaa1725888b5"
      },
      "execution_count": null,
      "outputs": [
        {
          "output_type": "stream",
          "name": "stdout",
          "text": [
            "Quantas listas deseja gerar? 2\n",
            "Digite o 1º num: 1\n",
            "Digite o 2º num: 2\n",
            "Digite o 3º num: 3\n",
            "Digite o 4º num: 4\n",
            "Digite o 5º num: 5\n",
            "Digite o 6º num: 6\n",
            "Digite o 1º num: 3\n",
            "Digite o 2º num: 5\n",
            "Digite o 3º num: 8\n",
            "Digite o 4º num: 2\n",
            "Digite o 5º num: 5\n",
            "Digite o 6º num: 3\n",
            "[[1, 2, 3, 4, 5, 6], [3, 5, 8, 2, 5, 3]]\n"
          ]
        }
      ]
    },
    {
      "cell_type": "code",
      "source": [],
      "metadata": {
        "id": "1l4oqwZkqb-K"
      },
      "execution_count": null,
      "outputs": []
    }
  ]
}