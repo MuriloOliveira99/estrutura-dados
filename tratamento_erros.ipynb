{
  "nbformat": 4,
  "nbformat_minor": 0,
  "metadata": {
    "colab": {
      "provenance": []
    },
    "kernelspec": {
      "name": "python3",
      "display_name": "Python 3"
    },
    "language_info": {
      "name": "python"
    }
  },
  "cells": [
    {
      "cell_type": "markdown",
      "source": [
        "# Python - Tratamento de Erros\n",
        "- Documentação\n",
        "    - https://docs.python.org/3/tutorial/errors.html\n",
        "- Tipos de Erros\n",
        "    - https://www.tutorialsteacher.com/python/error-types-in-python\n",
        "\n",
        "- Quando utilizar?\n",
        "    - Processamento Matemático Extenso\n",
        "    - Transformação de valores\n",
        "    - Comunicação Externas (DB, HTTP, Socket, RabbitMQ...)\n",
        "    - Levantamento de Erros Personalizados"
      ],
      "metadata": {
        "id": "2HbF8OUEB1Go"
      }
    },
    {
      "cell_type": "code",
      "execution_count": null,
      "metadata": {
        "colab": {
          "base_uri": "https://localhost:8080/"
        },
        "id": "pmAngZOM9aDv",
        "outputId": "151e31b1-8aae-4c74-c140-b8c17a542979"
      },
      "outputs": [
        {
          "output_type": "stream",
          "name": "stdout",
          "text": [
            "ocorreu um erro\n",
            "Com erro ou sem erro, o FINALLY sempre será executado!\n"
          ]
        }
      ],
      "source": [
        "# Try = tenta executar tudo que está dentro do try,\n",
        "# caso não consiga, vai para o except e exibe a msg\n",
        "try:\n",
        "    num1 = 3\n",
        "    num2 = 0\n",
        "\n",
        "    response = num1 / num2 \n",
        "    print(response)\n",
        "# caso não consigo executar o try, exibe a msg de erro no except\n",
        "except:\n",
        "    print('ocorreu um erro')\n",
        "\n",
        "# O finally sempre executará independentemente de qualquer coisa\n",
        "finally:\n",
        "    print('Com erro ou sem erro, o FINALLY sempre será executado!')"
      ]
    },
    {
      "cell_type": "code",
      "source": [
        "try:\n",
        "    # print(ola)\n",
        "    num1 = 3 \n",
        "    num2 = 0\n",
        "\n",
        "    response = num1 / num2 \n",
        "    print(response)\n",
        "except NameError:\n",
        "    print('Esse valor não existe')\n",
        "except ZeroDivisionError:\n",
        "    print('Erro de divisão por ZERO!!!')\n",
        "except Exception as exception:\n",
        "    print(exception)\n",
        "finally:\n",
        "    print('Com erro ou sem erro, o FINALLY sempre será executado!')"
      ],
      "metadata": {
        "colab": {
          "base_uri": "https://localhost:8080/"
        },
        "id": "jyDDODpRB65q",
        "outputId": "5ca678f8-6d6c-4885-cffc-48efec781fa6"
      },
      "execution_count": null,
      "outputs": [
        {
          "output_type": "stream",
          "name": "stdout",
          "text": [
            "Esse valor não existe\n",
            "Com erro ou sem erro, o FINALLY sempre será executado!\n"
          ]
        }
      ]
    },
    {
      "cell_type": "code",
      "source": [
        "print('Ola mundo!')\n",
        "raise Exception('meu erro!') # Cria um erro.\n",
        "print('Qualquer coisa')"
      ],
      "metadata": {
        "colab": {
          "base_uri": "https://localhost:8080/",
          "height": 217
        },
        "id": "PVYisCxJGiQo",
        "outputId": "d8e07602-0be1-4c3f-9cff-195f97ba3fc1"
      },
      "execution_count": null,
      "outputs": [
        {
          "output_type": "stream",
          "name": "stdout",
          "text": [
            "Ola mundo!\n"
          ]
        },
        {
          "output_type": "error",
          "ename": "Exception",
          "evalue": "ignored",
          "traceback": [
            "\u001b[0;31m---------------------------------------------------------------------------\u001b[0m",
            "\u001b[0;31mException\u001b[0m                                 Traceback (most recent call last)",
            "\u001b[0;32m<ipython-input-14-8cee768cb450>\u001b[0m in \u001b[0;36m<cell line: 2>\u001b[0;34m()\u001b[0m\n\u001b[1;32m      1\u001b[0m \u001b[0mprint\u001b[0m\u001b[0;34m(\u001b[0m\u001b[0;34m'Ola mundo!'\u001b[0m\u001b[0;34m)\u001b[0m\u001b[0;34m\u001b[0m\u001b[0;34m\u001b[0m\u001b[0m\n\u001b[0;32m----> 2\u001b[0;31m \u001b[0;32mraise\u001b[0m \u001b[0mException\u001b[0m\u001b[0;34m(\u001b[0m\u001b[0;34m'meu erro!'\u001b[0m\u001b[0;34m)\u001b[0m \u001b[0;31m# Criando um erro\u001b[0m\u001b[0;34m\u001b[0m\u001b[0;34m\u001b[0m\u001b[0m\n\u001b[0m\u001b[1;32m      3\u001b[0m \u001b[0mprint\u001b[0m\u001b[0;34m(\u001b[0m\u001b[0;34m'Qualquer coisa'\u001b[0m\u001b[0;34m)\u001b[0m\u001b[0;34m\u001b[0m\u001b[0;34m\u001b[0m\u001b[0m\n",
            "\u001b[0;31mException\u001b[0m: meu erro!"
          ]
        }
      ]
    },
    {
      "cell_type": "code",
      "source": [
        "num1 = 3\n",
        "num2 = 4\n",
        "\n",
        "if (num1 + num2 == 7):\n",
        "    raise Exception('Meu Erro!')\n",
        "print('Olá mundo!')"
      ],
      "metadata": {
        "colab": {
          "base_uri": "https://localhost:8080/",
          "height": 217
        },
        "id": "aDPUYW2gHGNR",
        "outputId": "0f03550b-9f67-4dc8-8ef4-3c97f7f5a26f"
      },
      "execution_count": null,
      "outputs": [
        {
          "output_type": "error",
          "ename": "Exception",
          "evalue": "ignored",
          "traceback": [
            "\u001b[0;31m---------------------------------------------------------------------------\u001b[0m",
            "\u001b[0;31mException\u001b[0m                                 Traceback (most recent call last)",
            "\u001b[0;32m<ipython-input-17-8b7e6cb23722>\u001b[0m in \u001b[0;36m<cell line: 4>\u001b[0;34m()\u001b[0m\n\u001b[1;32m      3\u001b[0m \u001b[0;34m\u001b[0m\u001b[0m\n\u001b[1;32m      4\u001b[0m \u001b[0;32mif\u001b[0m \u001b[0;34m(\u001b[0m\u001b[0mnum1\u001b[0m \u001b[0;34m+\u001b[0m \u001b[0mnum2\u001b[0m \u001b[0;34m==\u001b[0m \u001b[0;36m7\u001b[0m\u001b[0;34m)\u001b[0m\u001b[0;34m:\u001b[0m\u001b[0;34m\u001b[0m\u001b[0;34m\u001b[0m\u001b[0m\n\u001b[0;32m----> 5\u001b[0;31m     \u001b[0;32mraise\u001b[0m \u001b[0mException\u001b[0m\u001b[0;34m(\u001b[0m\u001b[0;34m'Meu Erro!'\u001b[0m\u001b[0;34m)\u001b[0m\u001b[0;34m\u001b[0m\u001b[0;34m\u001b[0m\u001b[0m\n\u001b[0m\u001b[1;32m      6\u001b[0m \u001b[0mprint\u001b[0m\u001b[0;34m(\u001b[0m\u001b[0;34m'Olá mundo!'\u001b[0m\u001b[0;34m)\u001b[0m\u001b[0;34m\u001b[0m\u001b[0;34m\u001b[0m\u001b[0m\n",
            "\u001b[0;31mException\u001b[0m: Meu Erro!"
          ]
        }
      ]
    },
    {
      "cell_type": "code",
      "source": [
        "class MeuErroPersonalizado(Exception):\n",
        "    def __init__(self, message):\n",
        "        super().__init__(message)\n",
        "        self.message = message\n",
        "        self.error_type = 'Esse é meu erro'\n",
        "\n",
        "try:\n",
        "    raise MeuErroPersonalizado('Personalizei um erro!')\n",
        "except Exception as exception:\n",
        "    print(exception)\n",
        "    print(exception.error_type)"
      ],
      "metadata": {
        "colab": {
          "base_uri": "https://localhost:8080/"
        },
        "id": "l5ZwuF3DHYHT",
        "outputId": "f76ab5d0-ed46-4652-f020-a6101adad04e"
      },
      "execution_count": null,
      "outputs": [
        {
          "output_type": "stream",
          "name": "stdout",
          "text": [
            "Personalizei um erro!\n",
            "Esse é meu erro\n"
          ]
        }
      ]
    },
    {
      "cell_type": "code",
      "source": [
        "def calculadora(num1, num2):\n",
        "    resultado = num1 / num2\n",
        "    if num1 + num2 == 2:\n",
        "        raise MeuErroPersonalizado('Resultdo 2!')\n",
        "    return resultado"
      ],
      "metadata": {
        "id": "brtElYEWITBU"
      },
      "execution_count": null,
      "outputs": []
    },
    {
      "cell_type": "code",
      "source": [
        "def error_handler(error):\n",
        "    if isinstance(error, MeuErroPersonalizado):\n",
        "        print('Tratar meu erro personalizado')\n",
        "        return\n",
        "\n",
        "    if isinstance(error, ZeroDivisionError):\n",
        "        print('Tratar divisão por ZERO')\n",
        "        return\n",
        "\n",
        "    if isinstance(error, Exception):\n",
        "        print('Tratar caso geral!')\n",
        "        return"
      ],
      "metadata": {
        "id": "9aS2UmJuIplK"
      },
      "execution_count": null,
      "outputs": []
    },
    {
      "cell_type": "code",
      "source": [
        "try:\n",
        "    response = calculadora(1, 1)\n",
        "    print(response)\n",
        "except Exception as exception:\n",
        "    error_handler(exception)"
      ],
      "metadata": {
        "colab": {
          "base_uri": "https://localhost:8080/"
        },
        "id": "qpnmEo1uJJBS",
        "outputId": "e8dc4b65-6c3a-48a2-c8ee-0061f797b1a0"
      },
      "execution_count": null,
      "outputs": [
        {
          "output_type": "stream",
          "name": "stdout",
          "text": [
            "Tratar meu erro personalizado\n"
          ]
        }
      ]
    }
  ]
}