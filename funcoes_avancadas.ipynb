{
  "nbformat": 4,
  "nbformat_minor": 0,
  "metadata": {
    "colab": {
      "provenance": []
    },
    "kernelspec": {
      "name": "python3",
      "display_name": "Python 3"
    },
    "language_info": {
      "name": "python"
    }
  },
  "cells": [
    {
      "cell_type": "markdown",
      "source": [
        "# Funções - lambda, list comprehension, map, filter e reduce \n"
      ],
      "metadata": {
        "id": "TxStHVxnUB3H"
      }
    },
    {
      "cell_type": "markdown",
      "source": [
        "## Funções Lambda\n",
        "- Permite a criação de funções anônimas, ou seja, sem necessidade de dar um nome para ela."
      ],
      "metadata": {
        "id": "cuGIlZgAUzxy"
      }
    },
    {
      "cell_type": "code",
      "source": [
        "preco = 1000\n",
        "\n",
        "# Função normal\n",
        "def calcular_imposto(preco):\n",
        "    return preco * 0.3\n",
        "print(calcular_imposto(preco))\n",
        "\n",
        "print()\n",
        "\n",
        "# Função Lambda\n",
        "calcular_imposto2 = lambda x: x * 0.3\n",
        "print(calcular_imposto2(preco))"
      ],
      "metadata": {
        "colab": {
          "base_uri": "https://localhost:8080/"
        },
        "id": "KH8crR-GHETg",
        "outputId": "b4e7917f-3b41-43cf-ca41-1d43086096ac"
      },
      "execution_count": null,
      "outputs": [
        {
          "output_type": "stream",
          "name": "stdout",
          "text": [
            "300.0\n",
            "\n",
            "300.0\n"
          ]
        }
      ]
    },
    {
      "cell_type": "code",
      "source": [
        "# map -> aplica uma função para cada valor da lista\n",
        "precos = [100, 500, 10, 25]\n",
        "impostos = list(map(lambda x: x * 0.3, precos))\n",
        "print(impostos)"
      ],
      "metadata": {
        "colab": {
          "base_uri": "https://localhost:8080/"
        },
        "id": "F0rvP-GzMv4y",
        "outputId": "cdf3965f-02ea-43db-82bc-5499a5af5bde"
      },
      "execution_count": null,
      "outputs": [
        {
          "output_type": "stream",
          "name": "stdout",
          "text": [
            "[30.0, 150.0, 3.0, 7.5]\n"
          ]
        }
      ]
    },
    {
      "cell_type": "markdown",
      "source": [
        "## List comprehension\n",
        "- A compreensão de listas é uma maneira elegante de definir e criar listas com base em listas existentes.\n",
        "- A compreensão de lista é geralmente mais compacta e rápida do que as funções e loops normais para a criação de listas.\n",
        "- No entanto, devemos evitar escrever compreensões de lista muito longas em uma linha para garantir que o código seja fácil de usar."
      ],
      "metadata": {
        "id": "eVSBLmGQWdjw"
      }
    },
    {
      "cell_type": "code",
      "source": [
        "# Forma mais comum\n",
        "lista_comum = []\n",
        "for numero in range(1, 11):\n",
        "    lista_comum.append(numero)\n",
        "print(f'Sem List comprehension: {lista_comum}')\n",
        "\n",
        "# usando list comprehension\n",
        "lista_comprehension = [numero for numero in range(1, 11)]\n",
        "print(f'Com List comprehension: {lista_comprehension}')\n",
        "\n",
        "# usando list comprehension com operador\n",
        "lista_comprehension2 = [numero * 2 for numero in range(1, 11)]\n",
        "print(f'List comprehension * 2: {lista_comprehension}')"
      ],
      "metadata": {
        "id": "M302EWQpWdok",
        "colab": {
          "base_uri": "https://localhost:8080/"
        },
        "outputId": "a8beda05-421b-4a6e-f24f-747c17ce1449"
      },
      "execution_count": null,
      "outputs": [
        {
          "output_type": "stream",
          "name": "stdout",
          "text": [
            "Sem List comprehension: [1, 2, 3, 4, 5, 6, 7, 8, 9, 10]\n",
            "Com List comprehension: [1, 2, 3, 4, 5, 6, 7, 8, 9, 10]\n",
            "List comprehension * 2: [1, 2, 3, 4, 5, 6, 7, 8, 9, 10]\n"
          ]
        }
      ]
    },
    {
      "cell_type": "code",
      "source": [
        "# mapeamento de dados em list comprehension\n",
        "produtos = [\n",
        "    {'nome': 'p1', 'preco': 20},\n",
        "    {'nome': 'p2', 'preco': 10},\n",
        "    {'nome': 'p3', 'preco': 30}\n",
        "]\n",
        "\n",
        "novos_produtos = [produto['nome'] for produto in produtos]\n",
        "print('Nome: ', *novos_produtos, sep='\\n')\n"
      ],
      "metadata": {
        "colab": {
          "base_uri": "https://localhost:8080/"
        },
        "id": "WeTBxS8TyM0_",
        "outputId": "8672c331-c6c9-4ec7-9904-9afbcb47e279"
      },
      "execution_count": null,
      "outputs": [
        {
          "output_type": "stream",
          "name": "stdout",
          "text": [
            "Nome: \n",
            "p1\n",
            "p2\n",
            "p3\n"
          ]
        }
      ]
    },
    {
      "cell_type": "code",
      "source": [
        "# filtro em list comprehension\n",
        "lista = [n for n in range(1, 11) if n < 5]\n",
        "print(lista)"
      ],
      "metadata": {
        "colab": {
          "base_uri": "https://localhost:8080/"
        },
        "id": "kPwI4UI7FQYt",
        "outputId": "4263eddf-af34-4a68-a282-c9ed53272cd5"
      },
      "execution_count": null,
      "outputs": [
        {
          "output_type": "stream",
          "name": "stdout",
          "text": [
            "[1, 2, 3, 4]\n"
          ]
        }
      ]
    },
    {
      "cell_type": "code",
      "source": [
        "precos = [500, 1500, 2000, 100, 35]\n",
        "\n",
        "precos_dobrado = [preco * 2 for preco in precos]\n",
        "print(precos_dobrado)"
      ],
      "metadata": {
        "colab": {
          "base_uri": "https://localhost:8080/"
        },
        "id": "Q4wY_RdjAKMP",
        "outputId": "53412908-87c1-4e0e-a07d-b2d32947a24d"
      },
      "execution_count": null,
      "outputs": [
        {
          "output_type": "stream",
          "name": "stdout",
          "text": [
            "[1000, 3000, 4000, 200, 70]\n"
          ]
        }
      ]
    },
    {
      "cell_type": "code",
      "source": [
        "imposto = [preco * 0.5 for preco in precos if preco > 1000]\n",
        "print(imposto)"
      ],
      "metadata": {
        "colab": {
          "base_uri": "https://localhost:8080/"
        },
        "id": "cmFlKMdhDrD-",
        "outputId": "f9a0c36f-c88a-46ee-a243-1ed22eac4af6"
      },
      "execution_count": null,
      "outputs": [
        {
          "output_type": "stream",
          "name": "stdout",
          "text": [
            "[750.0, 1000.0]\n"
          ]
        }
      ]
    },
    {
      "cell_type": "markdown",
      "source": [
        "## map\n",
        "- Permite a criação de funções anônimas, ou seja, sem necessidade de dar um nome para ela."
      ],
      "metadata": {
        "id": "umd2PYBxU6cF"
      }
    },
    {
      "cell_type": "code",
      "source": [
        "precos = [1000, 1500, 1250, 2500]\n",
        "\n",
        "def adicionar_imposto(preco):\n",
        "    return preco * 2\n",
        "\n",
        "# para cada valor da lista, aplique a função 'adicionar_imposto'.\n",
        "# o primeiro parametro do map recebe uma funcao\n",
        "# o segundo parametro do map é a lista\n",
        "precos_com_imposto = list(map(adicionar_imposto, precos))\n",
        "# precos_com_imposto = list(map(lambda x: x * 2, precos))\n",
        "print(precos_com_imposto)"
      ],
      "metadata": {
        "id": "C3B8srH8SKjq",
        "colab": {
          "base_uri": "https://localhost:8080/"
        },
        "outputId": "99b92570-f79f-44a9-d589-9c558e05561f"
      },
      "execution_count": null,
      "outputs": [
        {
          "output_type": "stream",
          "name": "stdout",
          "text": [
            "[2000, 3000, 2500, 5000]\n"
          ]
        }
      ]
    },
    {
      "cell_type": "code",
      "source": [
        "import pandas as pd\n",
        "import numpy as np\n",
        "\n",
        "produtos = ['Produto A', 'Produto B', 'Produto C', 'Produto D', 'Produto E', 'Produto F', 'Produto G', 'Produto H', 'Produto I', 'Produto J']\n",
        "quantidades = np.random.randint(1, 10, size=10)\n",
        "precos = np.random.randint(200, 1000, size=10)\n",
        "datas = pd.date_range('2023-04-01', periods=10, freq='D')\n",
        "\n",
        "df = pd.DataFrame({'Produto': produtos, 'Quantidade Vendida': quantidades, 'Preço Unitário': precos, 'Data da Venda': datas})\n",
        "\n",
        "\n",
        "# criar uma nova coluna aplicando o dobro do valor do preço unitário\n",
        "df['dobro_unitario'] = list(map(lambda x: x * 2, df['Preço Unitário']))\n",
        "\n",
        "# df['dobro_unitario'] = df['Preço Unitário'].map(lambda x: x * 2)\n",
        "\n",
        "df.head(5)"
      ],
      "metadata": {
        "colab": {
          "base_uri": "https://localhost:8080/",
          "height": 206
        },
        "id": "2Vm5desjJDNg",
        "outputId": "1a219d83-f28a-477f-d107-7684bdca5a21"
      },
      "execution_count": null,
      "outputs": [
        {
          "output_type": "execute_result",
          "data": {
            "text/plain": [
              "     Produto  Quantidade Vendida  Preço Unitário Data da Venda  dobro_unitario\n",
              "0  Produto A                   7             818    2023-04-01            1636\n",
              "1  Produto B                   8             201    2023-04-02             402\n",
              "2  Produto C                   9             949    2023-04-03            1898\n",
              "3  Produto D                   9             375    2023-04-04             750\n",
              "4  Produto E                   1             325    2023-04-05             650"
            ],
            "text/html": [
              "\n",
              "  <div id=\"df-5dcd70dd-1f4e-4766-b69a-72b6242f83da\">\n",
              "    <div class=\"colab-df-container\">\n",
              "      <div>\n",
              "<style scoped>\n",
              "    .dataframe tbody tr th:only-of-type {\n",
              "        vertical-align: middle;\n",
              "    }\n",
              "\n",
              "    .dataframe tbody tr th {\n",
              "        vertical-align: top;\n",
              "    }\n",
              "\n",
              "    .dataframe thead th {\n",
              "        text-align: right;\n",
              "    }\n",
              "</style>\n",
              "<table border=\"1\" class=\"dataframe\">\n",
              "  <thead>\n",
              "    <tr style=\"text-align: right;\">\n",
              "      <th></th>\n",
              "      <th>Produto</th>\n",
              "      <th>Quantidade Vendida</th>\n",
              "      <th>Preço Unitário</th>\n",
              "      <th>Data da Venda</th>\n",
              "      <th>dobro_unitario</th>\n",
              "    </tr>\n",
              "  </thead>\n",
              "  <tbody>\n",
              "    <tr>\n",
              "      <th>0</th>\n",
              "      <td>Produto A</td>\n",
              "      <td>7</td>\n",
              "      <td>818</td>\n",
              "      <td>2023-04-01</td>\n",
              "      <td>1636</td>\n",
              "    </tr>\n",
              "    <tr>\n",
              "      <th>1</th>\n",
              "      <td>Produto B</td>\n",
              "      <td>8</td>\n",
              "      <td>201</td>\n",
              "      <td>2023-04-02</td>\n",
              "      <td>402</td>\n",
              "    </tr>\n",
              "    <tr>\n",
              "      <th>2</th>\n",
              "      <td>Produto C</td>\n",
              "      <td>9</td>\n",
              "      <td>949</td>\n",
              "      <td>2023-04-03</td>\n",
              "      <td>1898</td>\n",
              "    </tr>\n",
              "    <tr>\n",
              "      <th>3</th>\n",
              "      <td>Produto D</td>\n",
              "      <td>9</td>\n",
              "      <td>375</td>\n",
              "      <td>2023-04-04</td>\n",
              "      <td>750</td>\n",
              "    </tr>\n",
              "    <tr>\n",
              "      <th>4</th>\n",
              "      <td>Produto E</td>\n",
              "      <td>1</td>\n",
              "      <td>325</td>\n",
              "      <td>2023-04-05</td>\n",
              "      <td>650</td>\n",
              "    </tr>\n",
              "  </tbody>\n",
              "</table>\n",
              "</div>\n",
              "      <button class=\"colab-df-convert\" onclick=\"convertToInteractive('df-5dcd70dd-1f4e-4766-b69a-72b6242f83da')\"\n",
              "              title=\"Convert this dataframe to an interactive table.\"\n",
              "              style=\"display:none;\">\n",
              "        \n",
              "  <svg xmlns=\"http://www.w3.org/2000/svg\" height=\"24px\"viewBox=\"0 0 24 24\"\n",
              "       width=\"24px\">\n",
              "    <path d=\"M0 0h24v24H0V0z\" fill=\"none\"/>\n",
              "    <path d=\"M18.56 5.44l.94 2.06.94-2.06 2.06-.94-2.06-.94-.94-2.06-.94 2.06-2.06.94zm-11 1L8.5 8.5l.94-2.06 2.06-.94-2.06-.94L8.5 2.5l-.94 2.06-2.06.94zm10 10l.94 2.06.94-2.06 2.06-.94-2.06-.94-.94-2.06-.94 2.06-2.06.94z\"/><path d=\"M17.41 7.96l-1.37-1.37c-.4-.4-.92-.59-1.43-.59-.52 0-1.04.2-1.43.59L10.3 9.45l-7.72 7.72c-.78.78-.78 2.05 0 2.83L4 21.41c.39.39.9.59 1.41.59.51 0 1.02-.2 1.41-.59l7.78-7.78 2.81-2.81c.8-.78.8-2.07 0-2.86zM5.41 20L4 18.59l7.72-7.72 1.47 1.35L5.41 20z\"/>\n",
              "  </svg>\n",
              "      </button>\n",
              "      \n",
              "  <style>\n",
              "    .colab-df-container {\n",
              "      display:flex;\n",
              "      flex-wrap:wrap;\n",
              "      gap: 12px;\n",
              "    }\n",
              "\n",
              "    .colab-df-convert {\n",
              "      background-color: #E8F0FE;\n",
              "      border: none;\n",
              "      border-radius: 50%;\n",
              "      cursor: pointer;\n",
              "      display: none;\n",
              "      fill: #1967D2;\n",
              "      height: 32px;\n",
              "      padding: 0 0 0 0;\n",
              "      width: 32px;\n",
              "    }\n",
              "\n",
              "    .colab-df-convert:hover {\n",
              "      background-color: #E2EBFA;\n",
              "      box-shadow: 0px 1px 2px rgba(60, 64, 67, 0.3), 0px 1px 3px 1px rgba(60, 64, 67, 0.15);\n",
              "      fill: #174EA6;\n",
              "    }\n",
              "\n",
              "    [theme=dark] .colab-df-convert {\n",
              "      background-color: #3B4455;\n",
              "      fill: #D2E3FC;\n",
              "    }\n",
              "\n",
              "    [theme=dark] .colab-df-convert:hover {\n",
              "      background-color: #434B5C;\n",
              "      box-shadow: 0px 1px 3px 1px rgba(0, 0, 0, 0.15);\n",
              "      filter: drop-shadow(0px 1px 2px rgba(0, 0, 0, 0.3));\n",
              "      fill: #FFFFFF;\n",
              "    }\n",
              "  </style>\n",
              "\n",
              "      <script>\n",
              "        const buttonEl =\n",
              "          document.querySelector('#df-5dcd70dd-1f4e-4766-b69a-72b6242f83da button.colab-df-convert');\n",
              "        buttonEl.style.display =\n",
              "          google.colab.kernel.accessAllowed ? 'block' : 'none';\n",
              "\n",
              "        async function convertToInteractive(key) {\n",
              "          const element = document.querySelector('#df-5dcd70dd-1f4e-4766-b69a-72b6242f83da');\n",
              "          const dataTable =\n",
              "            await google.colab.kernel.invokeFunction('convertToInteractive',\n",
              "                                                     [key], {});\n",
              "          if (!dataTable) return;\n",
              "\n",
              "          const docLinkHtml = 'Like what you see? Visit the ' +\n",
              "            '<a target=\"_blank\" href=https://colab.research.google.com/notebooks/data_table.ipynb>data table notebook</a>'\n",
              "            + ' to learn more about interactive tables.';\n",
              "          element.innerHTML = '';\n",
              "          dataTable['output_type'] = 'display_data';\n",
              "          await google.colab.output.renderOutput(dataTable, element);\n",
              "          const docLink = document.createElement('div');\n",
              "          docLink.innerHTML = docLinkHtml;\n",
              "          element.appendChild(docLink);\n",
              "        }\n",
              "      </script>\n",
              "    </div>\n",
              "  </div>\n",
              "  "
            ]
          },
          "metadata": {},
          "execution_count": 32
        }
      ]
    },
    {
      "cell_type": "markdown",
      "source": [
        "## filter\n",
        "- Cria uma lista de elementos para os quais uma função retorna true.\n"
      ],
      "metadata": {
        "id": "LuyZRwj2U94F"
      }
    },
    {
      "cell_type": "code",
      "source": [
        "precos_produtos = [100, 500, 300, 450, 600, 900, 550]\n",
        "\n",
        "maior_500 = list(filter(lambda x:  x > 500, precos_produtos))\n",
        "print(maior_500)"
      ],
      "metadata": {
        "id": "W3LN2EGaU98r",
        "colab": {
          "base_uri": "https://localhost:8080/"
        },
        "outputId": "2581e500-f535-4e92-9817-60f74fe464e9"
      },
      "execution_count": null,
      "outputs": [
        {
          "output_type": "stream",
          "name": "stdout",
          "text": [
            "[600, 900, 550]\n"
          ]
        }
      ]
    },
    {
      "cell_type": "markdown",
      "source": [
        "#### reduce\n",
        "- Aplica outra função sequencialmente e cumulativamente a uma lista (iterador), e \"reduz\" a lista a um só resultado final."
      ],
      "metadata": {
        "id": "PSIOJ6ak2nTW"
      }
    },
    {
      "cell_type": "code",
      "source": [
        "from functools import reduce\n",
        "\n",
        "# params.: acumulador, valor atual\n",
        "numeros = [100, 20, 10, 300, 550, 70, 40]\n",
        "\n",
        "soma_numeros = reduce(lambda acumulador, valor_atual: acumulador + valor_atual, numeros)\n",
        "print(soma_numeros)"
      ],
      "metadata": {
        "colab": {
          "base_uri": "https://localhost:8080/"
        },
        "id": "C8d9y8rD2nZg",
        "outputId": "d079f0f4-4e05-43ef-ecd0-2313d6678c9d"
      },
      "execution_count": null,
      "outputs": [
        {
          "output_type": "stream",
          "name": "stdout",
          "text": [
            "1090\n"
          ]
        }
      ]
    }
  ]
}