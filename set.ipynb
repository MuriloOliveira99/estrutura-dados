{
  "nbformat": 4,
  "nbformat_minor": 0,
  "metadata": {
    "colab": {
      "provenance": []
    },
    "kernelspec": {
      "name": "python3",
      "display_name": "Python 3"
    },
    "language_info": {
      "name": "python"
    }
  },
  "cells": [
    {
      "cell_type": "markdown",
      "source": [
        "# Python - set (conjuntos)\n",
        "\n",
        "- Sets em Python são mutáveis (pode ser alterado), porém aceitam apenas tipos imutáveis como valor interno.\n",
        "- Sets são eficientes para remover valores duplicados de iteráveis.\n",
        "- Não aceitam valores mutáveis;\n",
        "- Seus valores serão sempre únicos;\n",
        "- não tem índexes;\n",
        "- não garantem ordem;\n",
        "- são iteráveis (for, in, not in)."
      ],
      "metadata": {
        "id": "4mhGyRyp9FpE"
      }
    },
    {
      "cell_type": "markdown",
      "source": [
        "### Criando um set"
      ],
      "metadata": {
        "id": "rO2V9nrR9kRG"
      }
    },
    {
      "cell_type": "code",
      "source": [
        "s1 = set() # vazio\n",
        "s1 = set('MURILO') # com dados(itera sobre a string)\n",
        "s2 = {'Murilo'}\n",
        "s3 = {'Murilo', 1, 2, 3, 4}\n",
        "print(type(s1), s1)\n",
        "print(type(s1), s2)\n",
        "print(type(s1), s3)\n",
        "print(n:=5)"
      ],
      "metadata": {
        "colab": {
          "base_uri": "https://localhost:8080/"
        },
        "id": "AudVmgFS9kZX",
        "outputId": "7c439025-70bc-4cca-d3d6-e7448919c18c"
      },
      "execution_count": null,
      "outputs": [
        {
          "output_type": "stream",
          "name": "stdout",
          "text": [
            "<class 'set'> {'U', 'R', 'I', 'O', 'M', 'L'}\n",
            "<class 'set'> {'Murilo'}\n",
            "<class 'set'> {'Murilo', 2, 3, 4, 1}\n",
            "5\n"
          ]
        }
      ]
    },
    {
      "cell_type": "markdown",
      "source": [
        "#### Por padrão, set remove valores duplicados "
      ],
      "metadata": {
        "id": "OLNyTwdpGtOw"
      }
    },
    {
      "cell_type": "code",
      "source": [
        "s1 = {1, 2, 1, 2, 3, 4, 3, 4, 5, 5, 5, 5}\n",
        "print(s1)"
      ],
      "metadata": {
        "colab": {
          "base_uri": "https://localhost:8080/"
        },
        "id": "tbndXvPr-1DJ",
        "outputId": "28f7cf7a-7c64-485e-e3e1-b5ee952c6dc6"
      },
      "execution_count": null,
      "outputs": [
        {
          "output_type": "stream",
          "name": "stdout",
          "text": [
            "{1, 2, 3, 4, 5}\n"
          ]
        }
      ]
    },
    {
      "cell_type": "markdown",
      "source": [
        "#### Removendo valores duplicados de uma lista"
      ],
      "metadata": {
        "id": "v06PfFeTHkMQ"
      }
    },
    {
      "cell_type": "code",
      "source": [
        "l1 = [1, 2, 3, 3, 4, 4, 1, 2, 2, 6]\n",
        "s1 = set(l1)\n",
        "l2 = list(s1)\n",
        "print(type(s1), s1)\n",
        "print(type(l2), l2)"
      ],
      "metadata": {
        "colab": {
          "base_uri": "https://localhost:8080/"
        },
        "id": "Bzv7t8WjG0VB",
        "outputId": "0fbb77e7-78fd-47e5-857b-7f05abd080a6"
      },
      "execution_count": null,
      "outputs": [
        {
          "output_type": "stream",
          "name": "stdout",
          "text": [
            "<class 'set'> {1, 2, 3, 4, 6}\n",
            "<class 'list'> [1, 2, 3, 4, 6]\n"
          ]
        }
      ]
    },
    {
      "cell_type": "markdown",
      "source": [
        "#### Iterando sobre o set\n",
        "- for\n",
        "- in\n",
        "- not in"
      ],
      "metadata": {
        "id": "ntCy-yMcIwKa"
      }
    },
    {
      "cell_type": "code",
      "source": [
        "# verificando se um número existe/não existe no set\n",
        "# print(3 not in s1)\n",
        "\n",
        "# iterando com for\n",
        "s1 = {1, 2, 3, 3, 3, 5, 6, 7, 7, 6}\n",
        "for numero in s1:\n",
        "    print(numero)"
      ],
      "metadata": {
        "colab": {
          "base_uri": "https://localhost:8080/"
        },
        "id": "1Xnb0N-KHvCO",
        "outputId": "70ca7d44-886d-4761-d5f4-b7527dafc6e9"
      },
      "execution_count": null,
      "outputs": [
        {
          "output_type": "stream",
          "name": "stdout",
          "text": [
            "1\n",
            "2\n",
            "3\n",
            "5\n",
            "6\n",
            "7\n"
          ]
        }
      ]
    },
    {
      "cell_type": "markdown",
      "source": [
        "#### Métodos úteis\n",
        "- add\n",
        "- update\n",
        "- clear\n",
        "- discard"
      ],
      "metadata": {
        "id": "lrIDZm8mK7WV"
      }
    },
    {
      "cell_type": "code",
      "source": [
        "# add = adiciona novo valor no set\n",
        "s1 = set()\n",
        "s1.add('Murilo')\n",
        "s1.add(1)\n",
        "print(s1)"
      ],
      "metadata": {
        "colab": {
          "base_uri": "https://localhost:8080/"
        },
        "id": "G0BZjRwSJU73",
        "outputId": "ee1c4f36-a8a3-4b67-eb2d-fa52eaf55426"
      },
      "execution_count": null,
      "outputs": [
        {
          "output_type": "stream",
          "name": "stdout",
          "text": [
            "{'Murilo', 1}\n"
          ]
        }
      ]
    },
    {
      "cell_type": "code",
      "source": [
        "# update = adiciona novo valor(es) no set\n",
        "s1.update(('joao', 1, 2, 3, 4)) # para adicionar varios valores, precisa enviar como tupla\n",
        "print(s1)"
      ],
      "metadata": {
        "colab": {
          "base_uri": "https://localhost:8080/"
        },
        "id": "tRWgaetlfPKo",
        "outputId": "99892aba-8f3d-4e87-9a0f-078a40b0fe3f"
      },
      "execution_count": null,
      "outputs": [
        {
          "output_type": "stream",
          "name": "stdout",
          "text": [
            "{'Murilo', 2, 3, 1, 4, 'joao'}\n"
          ]
        }
      ]
    },
    {
      "cell_type": "code",
      "source": [
        "# clear = limpa(exclui) os valor(es) do set\n",
        "s1.clear()\n",
        "print(s1)"
      ],
      "metadata": {
        "colab": {
          "base_uri": "https://localhost:8080/"
        },
        "id": "YRmv0g9tf8tQ",
        "outputId": "cf8c1b44-bcf8-446d-e1d8-179b6fd1e116"
      },
      "execution_count": null,
      "outputs": [
        {
          "output_type": "stream",
          "name": "stdout",
          "text": [
            "set()\n"
          ]
        }
      ]
    },
    {
      "cell_type": "code",
      "source": [
        "# discard = remove um valor específico do set\n",
        "print(s1)\n",
        "s1.discard(4)\n",
        "s1.discard('joao')\n",
        "print(s1)"
      ],
      "metadata": {
        "colab": {
          "base_uri": "https://localhost:8080/"
        },
        "id": "2J6HRlftgPeU",
        "outputId": "f518748e-c121-4381-fd77-b31e985d9084"
      },
      "execution_count": null,
      "outputs": [
        {
          "output_type": "stream",
          "name": "stdout",
          "text": [
            "set()\n",
            "set()\n"
          ]
        }
      ]
    },
    {
      "cell_type": "markdown",
      "source": [
        "#### Operadores úteis:\n",
        "- união (|) - Une\n",
        "- intersecção (&) (intersection) - Itens presentes em ambos\n",
        "- diferença (-) Itens presentes apenas no set da esquerda\n",
        "- diferença simétrica (^) - Itens que não estão em ambos"
      ],
      "metadata": {
        "id": "RcVvMlWOgyZw"
      }
    },
    {
      "cell_type": "code",
      "source": [
        "s1 = {1, 2, 3}\n",
        "s2 = {2, 3, 4}\n",
        "print(f'S1: {s1}\\nS2: {s2}\\n')\n",
        "# Une s1 e s2 (Lembrando que sets nao aceita valores duplicados)\n",
        "s3 = s1 | s2\n",
        "print('Union |:          ', s3)\n",
        "\n",
        "# Retorna os itens presentes em ambos os sets\n",
        "s3 = s1 & s2\n",
        "print('Intersection &:   ', s3)\n",
        "\n",
        "# Retorna os itens presentes apenas no set da ESQUERDA\n",
        "s3 = s1 - s2\n",
        "s3_ = s2 - s1 \n",
        "print('Except s1 &:      ', s3)\n",
        "print('Except s2 &:      ', s3_)\n",
        "\n",
        "# Retorna itens que não estão presentes em ambos\n",
        "s3 = s1 ^ s2\n",
        "print('Dif Symmetric ^:  ', s3)"
      ],
      "metadata": {
        "colab": {
          "base_uri": "https://localhost:8080/"
        },
        "id": "H4EjkW7JgUrX",
        "outputId": "55d94e2d-3ea7-4da7-c319-68d68664ef87"
      },
      "execution_count": null,
      "outputs": [
        {
          "output_type": "stream",
          "name": "stdout",
          "text": [
            "S1: {1, 2, 3}\n",
            "S2: {2, 3, 4}\n",
            "\n",
            "Union |:           {1, 2, 3, 4}\n",
            "Intersection &:    {2, 3}\n",
            "Except s1 &:       {1}\n",
            "Except s2 &:       {4}\n",
            "Dif Symmetric ^:   {1, 4}\n"
          ]
        }
      ]
    },
    {
      "cell_type": "markdown",
      "source": [
        "#### Exemplo usando set"
      ],
      "metadata": {
        "id": "JvaxsFRAk8wN"
      }
    },
    {
      "cell_type": "code",
      "source": [
        "letras = set()\n",
        "while True:\n",
        "    letra = input('Digite: ')\n",
        "    letras.add(letra.lower())\n",
        "\n",
        "    if 'l' in letras:\n",
        "        print('Parabéns!')\n",
        "        break\n",
        "    print(letras)"
      ],
      "metadata": {
        "colab": {
          "base_uri": "https://localhost:8080/"
        },
        "id": "C0Md2KXQ5PRw",
        "outputId": "c6d5a1bf-0d84-4a42-9fd0-3e0b1e89731a"
      },
      "execution_count": null,
      "outputs": [
        {
          "output_type": "stream",
          "name": "stdout",
          "text": [
            "Digite: a\n",
            "{'a'}\n",
            "Digite: a\n",
            "{'a'}\n",
            "Digite: b\n",
            "{'a', 'b'}\n",
            "Digite: b\n",
            "{'a', 'b'}\n",
            "Digite: l\n",
            "Parabéns!\n"
          ]
        }
      ]
    }
  ]
}